{
 "cells": [
  {
   "cell_type": "code",
   "execution_count": 4,
   "id": "98458e88-6b0a-478c-a4eb-b0e87e516558",
   "metadata": {},
   "outputs": [],
   "source": [
    "import re\n",
    "import numpy as np\n",
    "import pandas as pd\n",
    "import matplotlib.pyplot as plt\n",
    "\n",
    "def loadFile(path, headers=None):\n",
    "    '''\n",
    "    This function will parse a standard HEKA .asc file into a pandas dataframe.\n",
    "\n",
    "    Arguments:\n",
    "    path - a stringIO input of a standard HEKA output .asc file.\n",
    "\n",
    "    Returns:\n",
    "    df, dfcache - two copies of the file reformatted into a dataframe.\n",
    "    '''\n",
    "    lineIndices = []            \n",
    "   \n",
    "    # Splits string at \\n and removes trailing spaces  \n",
    "    with open(path, \"r\") as f:                        \n",
    "        rawFile = f.read().strip().split(\"\\n\")        \n",
    "\n",
    "    count=0\n",
    "    # Finds rows that contain header information to exclude from df                                    \n",
    "    for line in rawFile:                                  \n",
    "        if re.search(r\"[a-z]+\", line) == None:          \n",
    "            lineIndices.append(count)                    \n",
    "        count += 1                                    \n",
    "   \n",
    "    # Formats headerless file for later df\n",
    "    processedFile = [rawFile[i].strip().replace(\" \", \"\").split(\",\") for i in lineIndices]    \n",
    "\n",
    "    # Use the difference in file size with and without headers to find nSweeps\n",
    "\n",
    "    if headers == None:\n",
    "         df = pd.DataFrame(data=processedFile)\n",
    "    else:\n",
    "        df = pd.DataFrame(columns=headers, data=processedFile)\n",
    "    df = df.apply(pd.to_numeric)\n",
    "    df = df.dropna(axis=0)\n",
    "   \n",
    "    nSweeps = df['index'].tolist().count(0)\n",
    "\n",
    "    # Make new column with sweep identity\n",
    "    df['sweep'] = np.repeat(np.arange(nSweeps) + 1, len(df)/(df['index'].tolist().count(1)))\n",
    "    return df.reset_index(drop=True)"
   ]
  },
  {
   "cell_type": "code",
   "execution_count": 65,
   "id": "ce210b9a-52d2-419b-94cc-aa47685d6517",
   "metadata": {},
   "outputs": [],
   "source": [
    "df = loadFile(\"20220128_N2A_pkg_cmv_mp1.asc\", [\"index\", \"ti\", \"i\", \"tv\", \"v\", \"tp\", \"p\"])\n",
    "df.i *= 1e12\n",
    "\n",
    "## Subset\n",
    "dfsub = df.query(\"@df.ti >= 5.0 & @df.ti <= 5.8\")\n",
    "gdfsub = dfsub.groupby(\"sweep\")\n",
    "\n",
    "## Find peak current\n",
    "maxindex = gdfsub[\"i\"].max()\n",
    "peaks = df.query(\"@df.i in @maxindex\")\n",
    "\n",
    "## Find steady state\n",
    "dfss = df.query(\"@df.ti <= 5.4 & @df.ti >= 5.3\")\n",
    "ss = dfss.groupby(\"sweep\")[\"i\"].mean()\n",
    "\n",
    "## Find mean peak and ss\n",
    "meanss = np.mean(ss)\n",
    "meanpeaks = np.mean(peaks.i)\n"
   ]
  },
  {
   "cell_type": "code",
   "execution_count": 66,
   "id": "478d255b-be44-4549-9fd1-9b163dc1edc1",
   "metadata": {},
   "outputs": [
    {
     "data": {
      "text/plain": [
       "84.65367305053547"
      ]
     },
     "execution_count": 66,
     "metadata": {},
     "output_type": "execute_result"
    }
   ],
   "source": [
    "##Call variables\n",
    "\n",
    "peaks\n",
    "meanss"
   ]
  },
  {
   "cell_type": "code",
   "execution_count": 56,
   "id": "81d19a9b-1169-46aa-9631-989fc8ec35cc",
   "metadata": {},
   "outputs": [
    {
     "data": {
      "image/png": "[encoded data removed]",
      "text/plain": [
       "<Figure size 432x288 with 1 Axes>"
      ]
     },
     "metadata": {
      "needs_background": "light"
     },
     "output_type": "display_data"
    }
   ],
   "source": [
    "for k, g in gdfsub:\n",
    "    plt.plot(g.ti, g.i)\n",
    "    plt.scatter(peaks.ti, peaks.i, marker='o')"
   ]
  },
  {
   "cell_type": "code",
   "execution_count": 32,
   "id": "8b342594-b814-46c4-b2c5-8acd027f898c",
   "metadata": {},
   "outputs": [
    {
     "data": {
      "text/html": [
       "<div>\n",
       "<style scoped>\n",
       "    .dataframe tbody tr th:only-of-type {\n",
       "        vertical-align: middle;\n",
       "    }\n",
       "\n",
       "    .dataframe tbody tr th {\n",
       "        vertical-align: top;\n",
       "    }\n",
       "\n",
       "    .dataframe thead th {\n",
       "        text-align: right;\n",
       "    }\n",
       "</style>\n",
       "<table border=\"1\" class=\"dataframe\">\n",
       "  <thead>\n",
       "    <tr style=\"text-align: right;\">\n",
       "      <th></th>\n",
       "      <th>index</th>\n",
       "      <th>ti</th>\n",
       "      <th>i</th>\n",
       "      <th>tv</th>\n",
       "      <th>v</th>\n",
       "      <th>tp</th>\n",
       "      <th>p</th>\n",
       "    </tr>\n",
       "    <tr>\n",
       "      <th>sweep</th>\n",
       "      <th></th>\n",
       "      <th></th>\n",
       "      <th></th>\n",
       "      <th></th>\n",
       "      <th></th>\n",
       "      <th></th>\n",
       "      <th></th>\n",
       "    </tr>\n",
       "  </thead>\n",
       "  <tbody>\n",
       "    <tr>\n",
       "      <th>1</th>\n",
       "      <td>58000.0</td>\n",
       "      <td>5.8</td>\n",
       "      <td>165.384317</td>\n",
       "      <td>5.800005</td>\n",
       "      <td>0.037807</td>\n",
       "      <td>5.800005</td>\n",
       "      <td>0.060075</td>\n",
       "    </tr>\n",
       "    <tr>\n",
       "      <th>2</th>\n",
       "      <td>58000.0</td>\n",
       "      <td>5.8</td>\n",
       "      <td>164.452049</td>\n",
       "      <td>5.800005</td>\n",
       "      <td>0.034682</td>\n",
       "      <td>5.800005</td>\n",
       "      <td>0.060075</td>\n",
       "    </tr>\n",
       "    <tr>\n",
       "      <th>3</th>\n",
       "      <td>58000.0</td>\n",
       "      <td>5.8</td>\n",
       "      <td>156.132995</td>\n",
       "      <td>5.800005</td>\n",
       "      <td>0.033433</td>\n",
       "      <td>5.800005</td>\n",
       "      <td>0.060075</td>\n",
       "    </tr>\n",
       "    <tr>\n",
       "      <th>4</th>\n",
       "      <td>58000.0</td>\n",
       "      <td>5.8</td>\n",
       "      <td>159.166374</td>\n",
       "      <td>5.800005</td>\n",
       "      <td>0.030933</td>\n",
       "      <td>5.800005</td>\n",
       "      <td>0.060075</td>\n",
       "    </tr>\n",
       "    <tr>\n",
       "      <th>5</th>\n",
       "      <td>58000.0</td>\n",
       "      <td>5.8</td>\n",
       "      <td>152.915056</td>\n",
       "      <td>5.800005</td>\n",
       "      <td>0.030620</td>\n",
       "      <td>5.800005</td>\n",
       "      <td>0.060075</td>\n",
       "    </tr>\n",
       "  </tbody>\n",
       "</table>\n",
       "</div>"
      ],
      "text/plain": [
       "         index   ti           i        tv         v        tp         p\n",
       "sweep                                                                  \n",
       "1      58000.0  5.8  165.384317  5.800005  0.037807  5.800005  0.060075\n",
       "2      58000.0  5.8  164.452049  5.800005  0.034682  5.800005  0.060075\n",
       "3      58000.0  5.8  156.132995  5.800005  0.033433  5.800005  0.060075\n",
       "4      58000.0  5.8  159.166374  5.800005  0.030933  5.800005  0.060075\n",
       "5      58000.0  5.8  152.915056  5.800005  0.030620  5.800005  0.060075"
      ]
     },
     "execution_count": 32,
     "metadata": {},
     "output_type": "execute_result"
    }
   ],
   "source": []
  },
  {
   "cell_type": "code",
   "execution_count": null,
   "id": "9dc8a7bf-8842-4cfd-aeb4-66040113951d",
   "metadata": {},
   "outputs": [],
   "source": []
  }
 ],
 "metadata": {
  "kernelspec": {
   "display_name": "Python 3 (ipykernel)",
   "language": "python",
   "name": "python3"
  },
  "language_info": {
   "codemirror_mode": {
    "name": "ipython",
    "version": 3
   },
   "file_extension": ".py",
   "mimetype": "text/x-python",
   "name": "python",
   "nbconvert_exporter": "python",
   "pygments_lexer": "ipython3",
   "version": "3.9.7"
  }
 },
 "nbformat": 4,
 "nbformat_minor": 5
}
